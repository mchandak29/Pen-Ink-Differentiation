{
 "cells": [
  {
   "cell_type": "code",
   "execution_count": 1,
   "metadata": {},
   "outputs": [],
   "source": [
    "import matplotlib.pyplot as plt\n",
    "from skimage.feature import local_binary_pattern\n",
    "import numpy as np\n",
    "import os\n",
    "import cv2\n",
    "import time\n",
    "import pandas as pd"
   ]
  },
  {
   "cell_type": "code",
   "execution_count": 2,
   "metadata": {},
   "outputs": [],
   "source": [
    "def load_images():\n",
    "    dir = os.path.join(os.sep,'home','mohit','Desktop','dataset')\n",
    "    images = {}\n",
    "    for k in range(1,113):\n",
    "        for i in ['1','2']:\n",
    "            for j in ['1','2','3','4','5','6','7','8']:\n",
    "                try:\n",
    "                    images['c'+str(k)+'_'+i+'_'+j] = cv2.imread(os.path.join(dir,'Cheque'+str(k),i,i+'_'+j+'.tif'))\n",
    "                    images['c'+str(k)+'_'+i+'_'+j] = cv2.cvtColor(images['c'+str(k)+'_'+i+'_'+j], cv2.COLOR_BGR2YCrCb)\n",
    "                except:\n",
    "                    break\n",
    "    return images"
   ]
  },
  {
   "cell_type": "code",
   "execution_count": 3,
   "metadata": {},
   "outputs": [],
   "source": [
    "def n_size(images):\n",
    "    size = {} #no. of ink pixels .. considering all non white pixels(<th) as ink pixels\n",
    "    for k in range(1,113):\n",
    "        for i in ['1','2']:\n",
    "            for j in ['1','2','3','4','5','6','7','8']:\n",
    "                count = 0\n",
    "                try:\n",
    "                    image = images['c'+str(k)+'_'+i+'_'+j][:,:,0] #using y channel\n",
    "                    for a in range(0,image.shape[0]):\n",
    "                        for b in range(0,image.shape[1]):\n",
    "                            if image[a][b] != 255:\n",
    "                                count+=1\n",
    "                    size['c'+str(k)+'_'+i+'_'+j] = count\n",
    "                   # print('c'+str(k)+'_'+i+'_'+j,count)\n",
    "                except:\n",
    "                    #print('..')\n",
    "                    break  \n",
    "    return size"
   ]
  },
  {
   "cell_type": "code",
   "execution_count": 5,
   "metadata": {},
   "outputs": [],
   "source": [
    "def mask(image):\n",
    "    r = (image==255)\n",
    "    return r\n"
   ]
  },
  {
   "cell_type": "code",
   "execution_count": 19,
   "metadata": {},
   "outputs": [],
   "source": [
    "def calc_k(images,dim,sizes,n_points = 8,radius = 1):\n",
    "    ktemp = 0\n",
    "    \n",
    "    for k in range(1,113):\n",
    "        for i in ['1','2']:\n",
    "            for j in ['1','2','3','4','5','6','7','8']:\n",
    "                try:\n",
    "                    lbp_pens = local_binary_pattern(images['c'+str(k)+'_'+i+'_'+j][:,:,dim], n_points, radius, method = 'ror')\n",
    "                    lbp_pens+= mask(images['c'+str(k)+'_'+i+'_'+j][:,:,0])*1000\n",
    "                    \n",
    "                    (hist, _) = np.histogram(lbp_pens.ravel(),range(0,257))\n",
    "                    s = sizes['c'+str(k)+'_'+i+'_'+j]\n",
    "                    hist = hist/s\n",
    "                    \n",
    "                    hist = sorted(hist,reverse = True)\n",
    "                    s = 0\n",
    "                    t = sum(hist)\n",
    "                    for l in range(0,len(hist)):\n",
    "                        s+=hist[l]\n",
    "                        if s/t >=0.8 :\n",
    "                            break\n",
    "                    ktemp+=l+1\n",
    "                    \n",
    "                except:\n",
    "                    break\n",
    "    \n",
    "    kval  = ktemp//854+1 \n",
    "    \n",
    "    return kval"
   ]
  },
  {
   "cell_type": "code",
   "execution_count": 20,
   "metadata": {},
   "outputs": [],
   "source": [
    "def dominant_lbp(images,dim,sizes,l,n_points = 8,radius = 1):\n",
    "    hist = {}\n",
    "    for k in range(1,113):\n",
    "        for i in ['1','2']:\n",
    "            for j in ['1','2','3','4','5','6','7','8']:\n",
    "                try:\n",
    "                    \n",
    "                    lbp_pens = local_binary_pattern(images['c'+str(k)+'_'+i+'_'+j][:,:,dim], n_points, radius, method = 'ror')\n",
    "                    lbp_pens+= mask(images['c'+str(k)+'_'+i+'_'+j][:,:,0])*1000\n",
    "\n",
    "                    (h, _) = np.histogram(lbp_pens.ravel(),range(0,257))\n",
    "                    s = sizes['c'+str(k)+'_'+i+'_'+j]\n",
    "                    h = h/s\n",
    "                    \n",
    "                    h = sorted(h,reverse = True)\n",
    "                    \n",
    "                    hist['c'+str(k)+'_'+i+'_'+j] = np.array(h[0:l])\n",
    "                except:\n",
    "                    break\n",
    "                   \n",
    "    return hist"
   ]
  },
  {
   "cell_type": "code",
   "execution_count": 8,
   "metadata": {},
   "outputs": [],
   "source": [
    "def compute_dist(param1,param2,n1,n2):\n",
    "    d = 0\n",
    "    for i in range(0,len(param1)):\n",
    "        d+=np.nan_to_num(((param1[i]-param2[i])**2)/(param1[i]+param2[i]))\n",
    "    return d\n",
    "\n",
    "def dist(param1,param2,n1,n2):\n",
    "    mean1 = np.mean(param1)\n",
    "    mean2 = np.mean(param2)\n",
    "    var1  = np.var(param1)\n",
    "    var2 = np.var(param2)\n",
    "     \n",
    "    d = np.abs(mean1-mean2)\n",
    "    d/=(var1/n1 + var2/n2)**0.5\n",
    "    \n",
    "    return d"
   ]
  },
  {
   "cell_type": "code",
   "execution_count": 9,
   "metadata": {},
   "outputs": [],
   "source": [
    "def distance_distribution(features,sizes):\n",
    "    same_pens = {}\n",
    "    diff_pens = {}\n",
    "    \n",
    "    for k in range(1,113) :\n",
    "        for i in ['1','2']: \n",
    "            for n in ['1','2']:\n",
    "                for j in ['1','2','3','4','5','6','7','8'] :\n",
    "                    for m in ['1','2','3','4','5','6','7','8'] :\n",
    "                        try:\n",
    "                            if(i==n and j==m):\n",
    "                                continue    \n",
    "                            elif i==n and 'c_'+str(k)+'_'+n+'_'+m+'::'+i+'_'+j not in same_pens:\n",
    "                                same_pens['c_'+str(k)+'_'+i+'_'+j+'::'+n+'_'+m] = np.nan_to_num(compute_dist(features['c'+str(k)+'_'+i+'_'+j],features['c'+str(k)+'_'+n+'_'+m],sizes['c'+str(k)+'_'+i+'_'+j],sizes['c'+str(k)+'_'+n+'_'+m]))\n",
    "                                #print(' same {}   :{}'.format('c_'+str(k)+'_'+i+'_'+j+'::'+n+'_'+m,same_pens['c_'+str(k)+'_'+i+'_'+j+'::'+n+'_'+m]))\n",
    "                    \n",
    "                            elif i!=n and 'c_'+str(k)+'_'+n+'_'+m+'::'+i+'_'+j not in diff_pens :                               \n",
    "                                diff_pens['c_'+str(k)+'_'+i+'_'+j+'::'+n+'_'+m] = np.nan_to_num(compute_dist(features['c'+str(k)+'_'+i+'_'+j],features['c'+str(k)+'_'+n+'_'+m],sizes['c'+str(k)+'_'+i+'_'+j],sizes['c'+str(k)+'_'+n+'_'+m]))\n",
    "                                #print(' diff {}   :{}'.format('c_'+str(k)+'_'+i+'_'+j+'::'+n+'_'+m,diff_pens['c_'+str(k)+'_'+i+'_'+j+'::'+n+'_'+m]))\n",
    "                        except:\n",
    "                            \n",
    "                            pass\n",
    "     \n",
    "    print('Lengths same pens-{} different pens-{}'.format(len(same_pens),len(diff_pens)))\n",
    "    return same_pens,diff_pens"
   ]
  },
  {
   "cell_type": "code",
   "execution_count": 10,
   "metadata": {},
   "outputs": [],
   "source": [
    "images = load_images()"
   ]
  },
  {
   "cell_type": "code",
   "execution_count": 11,
   "metadata": {},
   "outputs": [],
   "source": [
    "sizes = n_size(images)"
   ]
  },
  {
   "cell_type": "code",
   "execution_count": 21,
   "metadata": {},
   "outputs": [],
   "source": [
    "k_Y = calc_k(images,0,sizes)\n",
    "k_Cb = calc_k(images,1,sizes)\n",
    "k_Cr = calc_k(images,2,sizes)"
   ]
  },
  {
   "cell_type": "code",
   "execution_count": 22,
   "metadata": {},
   "outputs": [
    {
     "data": {
      "text/plain": [
       "(7, 10, 9)"
      ]
     },
     "execution_count": 22,
     "metadata": {},
     "output_type": "execute_result"
    }
   ],
   "source": [
    "k_Y,k_Cb,k_Cr"
   ]
  },
  {
   "cell_type": "code",
   "execution_count": 23,
   "metadata": {},
   "outputs": [],
   "source": [
    "hist_Y  = dominant_lbp(images,0,sizes,int(k_Y))\n",
    "hist_Cb = dominant_lbp(images,1,sizes,int(k_Cb))\n",
    "hist_Cr = dominant_lbp(images,2,sizes,int(k_Cr))"
   ]
  },
  {
   "cell_type": "code",
   "execution_count": 24,
   "metadata": {},
   "outputs": [
    {
     "name": "stdout",
     "output_type": "stream",
     "text": [
      "Lengths same pens-1465 different pens-1456\n",
      "Lengths same pens-1465 different pens-1456\n",
      "Lengths same pens-1465 different pens-1456\n",
      "24.799480420153735 29.549359804761757 23.676738465016378\n"
     ]
    }
   ],
   "source": [
    "same_pens_Y,diff_pens_Y = distance_distribution(hist_Y,sizes)\n",
    "same_pens_Y = [ v for v in same_pens_Y. values() ]\n",
    "diff_pens_Y = [ v for v in diff_pens_Y. values() ]\n",
    "\n",
    "same_pens_Cb,diff_pens_Cb = distance_distribution(hist_Cb,sizes)\n",
    "same_pens_Cb = [ v for v in same_pens_Cb. values() ]\n",
    "diff_pens_Cb = [ v for v in diff_pens_Cb. values() ]\n",
    "\n",
    "same_pens_Cr,diff_pens_Cr = distance_distribution(hist_Cr,sizes)\n",
    "same_pens_Cr = [ v for v in same_pens_Cr. values() ]\n",
    "diff_pens_Cr = [ v for v in diff_pens_Cr. values() ]\n",
    "\n",
    "dy = dist(same_pens_Y,diff_pens_Y,1465,1456)\n",
    "dcb = dist(same_pens_Cb,diff_pens_Cb,1465,1456)\n",
    "dcr = dist(same_pens_Cr,diff_pens_Cr,1465,1456)\n",
    "\n",
    "print(dy,dcb,dcr)"
   ]
  },
  {
   "cell_type": "code",
   "execution_count": 25,
   "metadata": {},
   "outputs": [],
   "source": [
    "Y = pd.DataFrame(hist_Y)\n",
    "Cb = pd.DataFrame(hist_Cb)\n",
    "Cr = pd.DataFrame(hist_Cr)\n",
    "features_all  = pd.concat([Y,Cb,Cr])\n",
    "features_all.to_csv('/home/mohit/Desktop/featuresUpdated/Dominant_LBP.csv', sep=',')"
   ]
  },
  {
   "cell_type": "markdown",
   "metadata": {},
   "source": [
    "## Dominant LBP (80%) r=1,n=8\n",
    "   color       distance          no.of features\n",
    "    Y            24.79              7             \n",
    "    Cb           29.54              10         \n",
    "    Cr           23.67             9      "
   ]
  },
  {
   "cell_type": "code",
   "execution_count": null,
   "metadata": {},
   "outputs": [],
   "source": []
  }
 ],
 "metadata": {
  "kernelspec": {
   "display_name": "Python 3",
   "language": "python",
   "name": "python3"
  },
  "language_info": {
   "codemirror_mode": {
    "name": "ipython",
    "version": 3
   },
   "file_extension": ".py",
   "mimetype": "text/x-python",
   "name": "python",
   "nbconvert_exporter": "python",
   "pygments_lexer": "ipython3",
   "version": "3.5.2"
  }
 },
 "nbformat": 4,
 "nbformat_minor": 2
}
