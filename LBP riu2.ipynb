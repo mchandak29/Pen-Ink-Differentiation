{
 "cells": [
  {
   "cell_type": "code",
   "execution_count": 13,
   "metadata": {},
   "outputs": [],
   "source": [
    "import matplotlib.pyplot as plt\n",
    "from skimage.feature import local_binary_pattern\n",
    "import numpy as np\n",
    "import os\n",
    "import cv2\n",
    "import time\n",
    "import pandas as pd"
   ]
  },
  {
   "cell_type": "code",
   "execution_count": 2,
   "metadata": {},
   "outputs": [],
   "source": [
    "def load_images():\n",
    "    dir = os.path.join(os.sep,'home','mohit','Desktop','dataset')\n",
    "    images = {}\n",
    "    for k in range(1,113):\n",
    "        for i in ['1','2']:\n",
    "            for j in ['1','2','3','4','5','6','7','8']:\n",
    "                try:\n",
    "                    images['c'+str(k)+'_'+i+'_'+j] = cv2.imread(os.path.join(dir,'Cheque'+str(k),i,i+'_'+j+'.tif'))\n",
    "                    images['c'+str(k)+'_'+i+'_'+j] = cv2.cvtColor(images['c'+str(k)+'_'+i+'_'+j], cv2.COLOR_BGR2YCrCb)\n",
    "                except:\n",
    "                    break\n",
    "    return images"
   ]
  },
  {
   "cell_type": "code",
   "execution_count": 3,
   "metadata": {},
   "outputs": [],
   "source": [
    "def n_size(images):\n",
    "    size = {} #no. of ink pixels .. considering all non white pixels(<th) as ink pixels\n",
    "    for k in range(1,113):\n",
    "        for i in ['1','2']:\n",
    "            for j in ['1','2','3','4','5','6','7','8']:\n",
    "                count = 0\n",
    "                try:\n",
    "                    image = images['c'+str(k)+'_'+i+'_'+j][:,:,0]\n",
    "                    for a in range(0,image.shape[0]):\n",
    "                        for b in range(0,image.shape[1]):\n",
    "                            if image[a][b] != 255:\n",
    "                                count+=1\n",
    "                    size['c'+str(k)+'_'+i+'_'+j] = count\n",
    "                   # print('c'+str(k)+'_'+i+'_'+j,count)\n",
    "                except:\n",
    "                    #print('..')\n",
    "                    break  \n",
    "    return size"
   ]
  },
  {
   "cell_type": "code",
   "execution_count": 4,
   "metadata": {},
   "outputs": [],
   "source": [
    "def mask(image):\n",
    "    r = (image==255)\n",
    "    return r\n"
   ]
  },
  {
   "cell_type": "code",
   "execution_count": 5,
   "metadata": {},
   "outputs": [],
   "source": [
    "def calc_lbp(images,dim,sizes,n_points = 8,radius = 1,method = 'uniform'): #‘default’, ‘ror’, ‘uniform’,'nri_uniform'\n",
    "    hist = {}\n",
    "    for k in range(1,113):\n",
    "        for i in ['1','2']:\n",
    "            for j in ['1','2','3','4','5','6','7','8']:\n",
    "                try:\n",
    "                    lbp_pens = local_binary_pattern(images['c'+str(k)+'_'+i+'_'+j][:,:,dim], n_points, radius, method)\n",
    "                    lbp_pens+= mask(images['c'+str(k)+'_'+i+'_'+j][:,:,0])*1000\n",
    "                    \n",
    "                    if(method=='uniform'):\n",
    "                        r=11\n",
    "                    else:\n",
    "                        r=257\n",
    "                    \n",
    "                    (h, _) = np.histogram(lbp_pens.ravel(),range(0,r)) #change range according to encoding\n",
    "                    s = sizes['c'+str(k)+'_'+i+'_'+j]\n",
    "                    hist['c'+str(k)+'_'+i+'_'+j] = h/s\n",
    "                    \n",
    "                except:\n",
    "                    break\n",
    "                   \n",
    "    return hist"
   ]
  },
  {
   "cell_type": "code",
   "execution_count": 6,
   "metadata": {},
   "outputs": [],
   "source": [
    "def dist(param1,param2,n1,n2):\n",
    "    mean1 = np.mean(param1)\n",
    "    mean2 = np.mean(param2)\n",
    "    var1  = np.var(param1)\n",
    "    var2 = np.var(param2)\n",
    "     \n",
    "    d = np.abs(mean1-mean2)\n",
    "    d/=(var1/n1 + var2/n2)**0.5\n",
    "    \n",
    "    return d"
   ]
  },
  {
   "cell_type": "code",
   "execution_count": 7,
   "metadata": {},
   "outputs": [],
   "source": [
    "def compute_dist(param1,param2,n1,n2):\n",
    "    d = 0\n",
    "    for i in range(0,len(param1)):\n",
    "        d+=np.nan_to_num(((param1[i]-param2[i])**2)/(param1[i]+param2[i]))\n",
    "    return d"
   ]
  },
  {
   "cell_type": "code",
   "execution_count": 8,
   "metadata": {},
   "outputs": [],
   "source": [
    "def distance_distribution(features,sizes):\n",
    "    same_pens = {}\n",
    "    diff_pens = {}\n",
    "    \n",
    "    for k in range(1,113) :\n",
    "        for i in ['1','2']: \n",
    "            for n in ['1','2']:\n",
    "                for j in ['1','2','3','4','5','6','7','8'] :\n",
    "                    for m in ['1','2','3','4','5','6','7','8'] :\n",
    "                        try:\n",
    "                            if(i==n and j==m):\n",
    "                                continue    \n",
    "                            elif i==n and 'c_'+str(k)+'_'+n+'_'+m+'::'+i+'_'+j not in same_pens:\n",
    "                                same_pens['c_'+str(k)+'_'+i+'_'+j+'::'+n+'_'+m] = np.nan_to_num(compute_dist(features['c'+str(k)+'_'+i+'_'+j],features['c'+str(k)+'_'+n+'_'+m],sizes['c'+str(k)+'_'+i+'_'+j],sizes['c'+str(k)+'_'+n+'_'+m]))\n",
    "                                #print(' same {}   :{}'.format('c_'+str(k)+'_'+i+'_'+j+'::'+n+'_'+m,same_pens['c_'+str(k)+'_'+i+'_'+j+'::'+n+'_'+m]))\n",
    "                    \n",
    "                            elif i!=n and 'c_'+str(k)+'_'+n+'_'+m+'::'+i+'_'+j not in diff_pens :                               \n",
    "                                diff_pens['c_'+str(k)+'_'+i+'_'+j+'::'+n+'_'+m] = np.nan_to_num(compute_dist(features['c'+str(k)+'_'+i+'_'+j],features['c'+str(k)+'_'+n+'_'+m],sizes['c'+str(k)+'_'+i+'_'+j],sizes['c'+str(k)+'_'+n+'_'+m]))\n",
    "                                #print(' diff {}   :{}'.format('c_'+str(k)+'_'+i+'_'+j+'::'+n+'_'+m,diff_pens['c_'+str(k)+'_'+i+'_'+j+'::'+n+'_'+m]))\n",
    "                        except:\n",
    "                            \n",
    "                            pass\n",
    "    print('Lengths same pens-{} different pens-{}'.format(len(same_pens),len(diff_pens)))\n",
    "    return same_pens,diff_pens"
   ]
  },
  {
   "cell_type": "code",
   "execution_count": 9,
   "metadata": {},
   "outputs": [],
   "source": [
    "images = load_images()"
   ]
  },
  {
   "cell_type": "code",
   "execution_count": 10,
   "metadata": {},
   "outputs": [],
   "source": [
    "sizes = n_size(images)"
   ]
  },
  {
   "cell_type": "markdown",
   "metadata": {},
   "source": [
    "# using riu2 encoding"
   ]
  },
  {
   "cell_type": "code",
   "execution_count": 11,
   "metadata": {},
   "outputs": [],
   "source": [
    "hist_Y = calc_lbp(images,0,sizes)\n",
    "hist_Cb = calc_lbp(images,1,sizes)\n",
    "hist_Cr = calc_lbp(images,2,sizes)"
   ]
  },
  {
   "cell_type": "code",
   "execution_count": 12,
   "metadata": {},
   "outputs": [
    {
     "name": "stderr",
     "output_type": "stream",
     "text": [
      "/home/mohit/.local/lib/python3.5/site-packages/ipykernel_launcher.py:4: RuntimeWarning: invalid value encountered in double_scalars\n",
      "  after removing the cwd from sys.path.\n"
     ]
    },
    {
     "name": "stdout",
     "output_type": "stream",
     "text": [
      "Lengths same pens-1465 different pens-1456\n",
      "Lengths same pens-1465 different pens-1456\n",
      "Lengths same pens-1465 different pens-1456\n",
      "26.734756180864732 25.32294401367777 19.525893457372764\n"
     ]
    }
   ],
   "source": [
    "same_pens_Y,diff_pens_Y = distance_distribution(hist_Y,sizes)\n",
    "same_pens_Y = [ v for v in same_pens_Y. values() ]\n",
    "diff_pens_Y = [ v for v in diff_pens_Y. values() ]\n",
    "\n",
    "same_pens_Cb,diff_pens_Cb = distance_distribution(hist_Cb,sizes)\n",
    "same_pens_Cb = [ v for v in same_pens_Cb. values() ]\n",
    "diff_pens_Cb = [ v for v in diff_pens_Cb. values() ]\n",
    "\n",
    "same_pens_Cr,diff_pens_Cr = distance_distribution(hist_Cr,sizes)\n",
    "same_pens_Cr = [ v for v in same_pens_Cr. values() ]\n",
    "diff_pens_Cr = [ v for v in diff_pens_Cr. values() ]\n",
    "\n",
    "dy = dist(same_pens_Y,diff_pens_Y,1465,1456)\n",
    "dcb = dist(same_pens_Cb,diff_pens_Cb,1465,1456)\n",
    "dcr = dist(same_pens_Cr,diff_pens_Cr,1465,1456)\n",
    "\n",
    "print(dy,dcb,dcr)"
   ]
  },
  {
   "cell_type": "code",
   "execution_count": 14,
   "metadata": {},
   "outputs": [],
   "source": [
    "Y = pd.DataFrame(hist_Y)\n",
    "Cb = pd.DataFrame(hist_Cb)\n",
    "Cr = pd.DataFrame(hist_Cr)"
   ]
  },
  {
   "cell_type": "code",
   "execution_count": 16,
   "metadata": {},
   "outputs": [],
   "source": [
    "glcm_features_all = pd.concat([Y,Cb,Cr])\n",
    "glcm_features_all.to_csv('/home/mohit/Desktop/featuresUpdated/LBP_riu2.csv', sep=',')"
   ]
  },
  {
   "cell_type": "markdown",
   "metadata": {},
   "source": [
    "# using default encoding"
   ]
  },
  {
   "cell_type": "code",
   "execution_count": 17,
   "metadata": {},
   "outputs": [],
   "source": [
    "hist_Y = calc_lbp(images,0,sizes,method='default')\n",
    "hist_Cb = calc_lbp(images,1,sizes,method='default')\n",
    "hist_Cr = calc_lbp(images,2,sizes,method='default')"
   ]
  },
  {
   "cell_type": "code",
   "execution_count": 18,
   "metadata": {},
   "outputs": [
    {
     "name": "stderr",
     "output_type": "stream",
     "text": [
      "/home/mohit/.local/lib/python3.5/site-packages/ipykernel_launcher.py:4: RuntimeWarning: invalid value encountered in double_scalars\n",
      "  after removing the cwd from sys.path.\n"
     ]
    },
    {
     "name": "stdout",
     "output_type": "stream",
     "text": [
      "Lengths same pens-1465 different pens-1456\n",
      "Lengths same pens-1465 different pens-1456\n",
      "Lengths same pens-1465 different pens-1456\n",
      "20.86354096625282 25.322397315873626 20.90342657885528\n"
     ]
    }
   ],
   "source": [
    "same_pens_Y,diff_pens_Y = distance_distribution(hist_Y,sizes)\n",
    "same_pens_Y = [ v for v in same_pens_Y. values() ]\n",
    "diff_pens_Y = [ v for v in diff_pens_Y. values() ]\n",
    "\n",
    "same_pens_Cb,diff_pens_Cb = distance_distribution(hist_Cb,sizes)\n",
    "same_pens_Cb = [ v for v in same_pens_Cb. values() ]\n",
    "diff_pens_Cb = [ v for v in diff_pens_Cb. values() ]\n",
    "\n",
    "same_pens_Cr,diff_pens_Cr = distance_distribution(hist_Cr,sizes)\n",
    "same_pens_Cr = [ v for v in same_pens_Cr. values() ]\n",
    "diff_pens_Cr = [ v for v in diff_pens_Cr. values() ]\n",
    "\n",
    "dy = dist(same_pens_Y,diff_pens_Y,1465,1456)\n",
    "dcb = dist(same_pens_Cb,diff_pens_Cb,1465,1456)\n",
    "dcr = dist(same_pens_Cr,diff_pens_Cr,1465,1456)\n",
    "\n",
    "print(dy,dcb,dcr)"
   ]
  },
  {
   "cell_type": "code",
   "execution_count": 19,
   "metadata": {},
   "outputs": [],
   "source": [
    "Y = pd.DataFrame(hist_Y)\n",
    "Cb = pd.DataFrame(hist_Cb)\n",
    "Cr = pd.DataFrame(hist_Cr)\n",
    "\n",
    "glcm_features_all = pd.concat([Y,Cb,Cr])\n",
    "glcm_features_all.to_csv('/home/mohit/Desktop/featuresUpdated/LBP_default.csv', sep=',')"
   ]
  },
  {
   "cell_type": "code",
   "execution_count": null,
   "metadata": {},
   "outputs": [],
   "source": []
  }
 ],
 "metadata": {
  "kernelspec": {
   "display_name": "Python 3",
   "language": "python",
   "name": "python3"
  },
  "language_info": {
   "codemirror_mode": {
    "name": "ipython",
    "version": 3
   },
   "file_extension": ".py",
   "mimetype": "text/x-python",
   "name": "python",
   "nbconvert_exporter": "python",
   "pygments_lexer": "ipython3",
   "version": "3.5.2"
  }
 },
 "nbformat": 4,
 "nbformat_minor": 2
}
